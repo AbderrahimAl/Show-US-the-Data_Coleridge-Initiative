{
  "nbformat": 4,
  "nbformat_minor": 5,
  "metadata": {
    "kernelspec": {
      "display_name": "Python 3",
      "language": "python",
      "name": "python3"
    },
    "language_info": {
      "codemirror_mode": {
        "name": "ipython",
        "version": 3
      },
      "file_extension": ".py",
      "mimetype": "text/x-python",
      "name": "python",
      "nbconvert_exporter": "python",
      "pygments_lexer": "ipython3",
      "version": "3.7.9"
    },
    "papermill": {
      "default_parameters": {},
      "duration": 615.330939,
      "end_time": "2021-07-09T16:12:04.063738",
      "environment_variables": {},
      "exception": null,
      "input_path": "__notebook__.ipynb",
      "output_path": "__notebook__.ipynb",
      "parameters": {},
      "start_time": "2021-07-09T16:01:48.732799",
      "version": "2.3.2"
    },
    "widgets": {
      "application/vnd.jupyter.widget-state+json": {}
    },
    "colab": {
      "name": "bert-masked-language-modeling.ipynb",
      "provenance": [],
      "collapsed_sections": [
        "serial-layout",
        "european-oakland"
      ],
      "include_colab_link": true
    }
  },
  "cells": [
    {
      "cell_type": "markdown",
      "metadata": {
        "id": "view-in-github",
        "colab_type": "text"
      },
      "source": [
        "<a href=\"https://colab.research.google.com/github/AbderrahimAl/Show-US-the-Data_Coleridge-Initiative/blob/main/bert_masked_language_modeling.ipynb\" target=\"_parent\"><img src=\"https://colab.research.google.com/assets/colab-badge.svg\" alt=\"Open In Colab\"/></a>"
      ]
    },
    {
      "cell_type": "markdown",
      "metadata": {
        "papermill": {
          "duration": 0.041317,
          "end_time": "2021-07-09T16:01:54.632482",
          "exception": false,
          "start_time": "2021-07-09T16:01:54.591165",
          "status": "completed"
        },
        "tags": [],
        "id": "filled-membrane"
      },
      "source": [
        "# <center>Coleridge Initiative - Show US the Data<br>Discover how data is used for the public good"
      ],
      "id": "filled-membrane"
    },
    {
      "cell_type": "markdown",
      "metadata": {
        "execution": {
          "iopub.execute_input": "2021-07-07T13:34:57.611253Z",
          "iopub.status.busy": "2021-07-07T13:34:57.610892Z",
          "iopub.status.idle": "2021-07-07T13:34:57.618761Z",
          "shell.execute_reply": "2021-07-07T13:34:57.617259Z",
          "shell.execute_reply.started": "2021-07-07T13:34:57.611178Z"
        },
        "papermill": {
          "duration": 0.037421,
          "end_time": "2021-07-09T16:01:54.707823",
          "exception": false,
          "start_time": "2021-07-09T16:01:54.670402",
          "status": "completed"
        },
        "tags": [],
        "id": "handled-moscow"
      },
      "source": [
        "> 📑 Context : This competition challenges data scientists to show how publicly funded data are used to serve science and society. Evidence through data is critical if government is to address the many threats facing society, including; pandemics, climate change, Alzheimer’s disease, child hunger, increasing food production, maintaining biodiversity, and addressing many other challenges. Yet much of the information about data necessary to inform evidence and science is locked inside publications.\n",
        "\n",
        "> In this competition, you'll use natural language processing (NLP) to automate the discovery of how scientific data are referenced in publications. Utilizing the full text of scientific publications from numerous research areas gathered from CHORUS publisher members and other sources, you'll identify data sets that the publications' authors used in their work.\n",
        "\n",
        "> 📌 Goal : The objective of the competition is to identify the mention of datasets within scientific publications. "
      ],
      "id": "handled-moscow"
    },
    {
      "cell_type": "markdown",
      "metadata": {
        "papermill": {
          "duration": 0.035159,
          "end_time": "2021-07-09T16:01:54.778454",
          "exception": false,
          "start_time": "2021-07-09T16:01:54.743295",
          "status": "completed"
        },
        "tags": [],
        "id": "partial-holiday"
      },
      "source": [
        "# <font color='#FF4500'> Table of Content\n",
        "* [1. Importing necessary packages and libraries📚](#1)\n",
        "* [2. Loading the data ⌛](#2)\n",
        "* [3. Data Pre-Processing🔧](#4)\n",
        "* [4. Matching 📑](#4)\n",
        "* [5. Masked Language Modling  🤗](#5)\n"
      ],
      "id": "partial-holiday"
    },
    {
      "cell_type": "markdown",
      "metadata": {
        "papermill": {
          "duration": 0.037461,
          "end_time": "2021-07-09T16:01:54.853012",
          "exception": false,
          "start_time": "2021-07-09T16:01:54.815551",
          "status": "completed"
        },
        "tags": [],
        "id": "offshore-antenna"
      },
      "source": [
        "# <font color='#FF4500'>Importing necessary packages and libraries📚</font>"
      ],
      "id": "offshore-antenna"
    },
    {
      "cell_type": "markdown",
      "metadata": {
        "papermill": {
          "duration": 0.038677,
          "end_time": "2021-07-09T16:01:54.929940",
          "exception": false,
          "start_time": "2021-07-09T16:01:54.891263",
          "status": "completed"
        },
        "tags": [],
        "id": "faced-sitting"
      },
      "source": [
        "## Install packages :"
      ],
      "id": "faced-sitting"
    },
    {
      "cell_type": "code",
      "metadata": {
        "_cell_guid": "b1076dfc-b9ad-4769-8c92-a6c4dae69d19",
        "_kg_hide-output": true,
        "_uuid": "8f2839f25d086af736a60e9eeb907d3b93b6e0e5",
        "execution": {
          "iopub.execute_input": "2021-07-09T16:01:55.019206Z",
          "iopub.status.busy": "2021-07-09T16:01:55.018526Z",
          "iopub.status.idle": "2021-07-09T16:03:28.197999Z",
          "shell.execute_reply": "2021-07-09T16:03:28.196978Z",
          "shell.execute_reply.started": "2021-07-09T15:52:02.687552Z"
        },
        "papermill": {
          "duration": 93.230681,
          "end_time": "2021-07-09T16:03:28.198190",
          "exception": false,
          "start_time": "2021-07-09T16:01:54.967509",
          "status": "completed"
        },
        "tags": [],
        "id": "specified-interview"
      },
      "source": [
        "!pip install datasets --no-index --find-links=file:///kaggle/input/coleridge-packages/packages/datasets\n",
        "!pip install ../input/coleridge-packages/seqeval-1.2.2-py3-none-any.whl\n",
        "!pip install ../input/coleridge-packages/tokenizers-0.10.1-cp37-cp37m-manylinux1_x86_64.whl\n",
        "!pip install ../input/coleridge-packages/transformers-4.5.0.dev0-py3-none-any.whl\n",
        "\n",
        "from IPython.display import clear_output\n",
        "clear_output()"
      ],
      "id": "specified-interview",
      "execution_count": null,
      "outputs": []
    },
    {
      "cell_type": "markdown",
      "metadata": {
        "papermill": {
          "duration": 0.037918,
          "end_time": "2021-07-09T16:03:28.274118",
          "exception": false,
          "start_time": "2021-07-09T16:03:28.236200",
          "status": "completed"
        },
        "tags": [],
        "id": "reflected-passage"
      },
      "source": [
        "## Importing Libraries:"
      ],
      "id": "reflected-passage"
    },
    {
      "cell_type": "code",
      "metadata": {
        "execution": {
          "iopub.execute_input": "2021-07-09T16:03:28.365173Z",
          "iopub.status.busy": "2021-07-09T16:03:28.364190Z",
          "iopub.status.idle": "2021-07-09T16:03:39.006324Z",
          "shell.execute_reply": "2021-07-09T16:03:39.004799Z",
          "shell.execute_reply.started": "2021-07-09T15:53:31.186652Z"
        },
        "papermill": {
          "duration": 10.69406,
          "end_time": "2021-07-09T16:03:39.006574",
          "exception": false,
          "start_time": "2021-07-09T16:03:28.312514",
          "status": "completed"
        },
        "tags": [],
        "id": "pointed-development"
      },
      "source": [
        "import numpy as np\n",
        "import pandas as pd \n",
        "import json\n",
        "import os \n",
        "import re\n",
        "import string\n",
        "import random\n",
        "\n",
        "# Data Visualization\n",
        "import matplotlib.pyplot as plt\n",
        "import seaborn as sns\n",
        "sns.set_style(\"whitegrid\")\n",
        "\n",
        "from wordcloud import WordCloud\n",
        "\n",
        "#Text Color\n",
        "from termcolor import colored\n",
        "\n",
        "#NLP\n",
        "import spacy\n",
        "\n",
        "from tqdm.auto import tqdm\n",
        "\n",
        "import pathlib\n",
        "import glob\n",
        "\n",
        "\n",
        "from datasets import load_dataset\n",
        "import torch\n",
        "from transformers import AutoTokenizer, DataCollatorForLanguageModeling, \\\n",
        "AutoModelForMaskedLM, Trainer, TrainingArguments, pipeline\n",
        "\n",
        "from typing import List\n",
        "import string\n",
        "from functools import partial\n",
        "\n",
        "\n",
        "\n",
        "import warnings\n",
        "warnings.filterwarnings('ignore')\n",
        "%matplotlib inline\n",
        "\n",
        "plt.rcParams['figure.figsize']=(8,6)"
      ],
      "id": "pointed-development",
      "execution_count": null,
      "outputs": []
    },
    {
      "cell_type": "code",
      "metadata": {
        "execution": {
          "iopub.execute_input": "2021-07-09T16:03:39.091916Z",
          "iopub.status.busy": "2021-07-09T16:03:39.090950Z",
          "iopub.status.idle": "2021-07-09T16:03:39.099879Z",
          "shell.execute_reply": "2021-07-09T16:03:39.100578Z",
          "shell.execute_reply.started": "2021-07-09T15:53:41.193701Z"
        },
        "papermill": {
          "duration": 0.055187,
          "end_time": "2021-07-09T16:03:39.100793",
          "exception": false,
          "start_time": "2021-07-09T16:03:39.045606",
          "status": "completed"
        },
        "tags": [],
        "id": "outdoor-workplace",
        "outputId": "a7d75424-5915-4fda-aac5-5957510813d2"
      },
      "source": [
        "def SeedEverything(seed: int):\n",
        "\n",
        "    random.seed(seed)\n",
        "    np.random.seed(seed)\n",
        "    torch.manual_seed(seed)\n",
        "    torch.cuda.manual_seed_all(seed)\n",
        "    torch.backends.cudnn.deterministic = True\n",
        "    torch.backends.cudnn.benchmark = False\n",
        "    print(f'Setted Pipeline SEED = {SEED}')\n",
        "\n",
        "SEED=2021\n",
        "SeedEverything(SEED)"
      ],
      "id": "outdoor-workplace",
      "execution_count": null,
      "outputs": [
        {
          "name": "stdout",
          "output_type": "stream",
          "text": [
            "Setted Pipeline SEED = 2021\n"
          ]
        }
      ]
    },
    {
      "cell_type": "markdown",
      "metadata": {
        "papermill": {
          "duration": 0.040932,
          "end_time": "2021-07-09T16:03:39.182070",
          "exception": false,
          "start_time": "2021-07-09T16:03:39.141138",
          "status": "completed"
        },
        "tags": [],
        "id": "processed-embassy"
      },
      "source": [
        "# <font color='#FF4500'> Loading the data ⌛"
      ],
      "id": "processed-embassy"
    },
    {
      "cell_type": "markdown",
      "metadata": {
        "papermill": {
          "duration": 0.037934,
          "end_time": "2021-07-09T16:03:39.258035",
          "exception": false,
          "start_time": "2021-07-09T16:03:39.220101",
          "status": "completed"
        },
        "tags": [],
        "id": "elementary-comment"
      },
      "source": [
        "* `train.csv` : Labels and metadata for the training set from scientific publications in the train folder ;\n",
        "* `train` - the full text of the training set's publications in JSON format, broken into sections with section titles\n",
        "* `test` - the full text of the test set's publications in JSON format, broken into sections with section titles\n",
        "* The `sample_subimission.csv` : a sample submission file in the correct format."
      ],
      "id": "elementary-comment"
    },
    {
      "cell_type": "markdown",
      "metadata": {
        "papermill": {
          "duration": 0.037817,
          "end_time": "2021-07-09T16:03:39.334986",
          "exception": false,
          "start_time": "2021-07-09T16:03:39.297169",
          "status": "completed"
        },
        "tags": [],
        "id": "super-train"
      },
      "source": [
        "### 1 CSV files :"
      ],
      "id": "super-train"
    },
    {
      "cell_type": "code",
      "metadata": {
        "execution": {
          "iopub.execute_input": "2021-07-09T16:03:39.418355Z",
          "iopub.status.busy": "2021-07-09T16:03:39.417726Z",
          "iopub.status.idle": "2021-07-09T16:03:39.422745Z",
          "shell.execute_reply": "2021-07-09T16:03:39.422211Z",
          "shell.execute_reply.started": "2021-07-09T15:53:41.207252Z"
        },
        "papermill": {
          "duration": 0.048358,
          "end_time": "2021-07-09T16:03:39.422883",
          "exception": false,
          "start_time": "2021-07-09T16:03:39.374525",
          "status": "completed"
        },
        "tags": [],
        "id": "hidden-netherlands"
      },
      "source": [
        "DATA_PATH = pathlib.Path('../input/coleridgeinitiative-show-us-the-data')"
      ],
      "id": "hidden-netherlands",
      "execution_count": null,
      "outputs": []
    },
    {
      "cell_type": "markdown",
      "metadata": {
        "papermill": {
          "duration": 0.038081,
          "end_time": "2021-07-09T16:03:39.499227",
          "exception": false,
          "start_time": "2021-07-09T16:03:39.461146",
          "status": "completed"
        },
        "tags": [],
        "id": "english-miami"
      },
      "source": [
        "**Columns Description :**\n",
        "\n",
        "* `id `- publication id - note that there are multiple rows for some training documents, indicating multiple mentioned datasets\n",
        "* `pub_title` - title of the publication (a small number of publications have the same title)\n",
        "* `dataset_title` - the title of the dataset that is mentioned within the publication\n",
        "* `dataset_label` - a portion of the text that indicates the dataset\n",
        "* `cleaned_label` - the dataset_label, as passed through the clean_text function from the Evaluation page\n",
        "* `PredictionString`- To be filled with equivalent of cleaned_label of train data (just in sample submission)."
      ],
      "id": "english-miami"
    },
    {
      "cell_type": "code",
      "metadata": {
        "execution": {
          "iopub.execute_input": "2021-07-09T16:03:39.584732Z",
          "iopub.status.busy": "2021-07-09T16:03:39.584078Z",
          "iopub.status.idle": "2021-07-09T16:03:39.717797Z",
          "shell.execute_reply": "2021-07-09T16:03:39.717199Z",
          "shell.execute_reply.started": "2021-07-09T15:53:41.221084Z"
        },
        "papermill": {
          "duration": 0.180516,
          "end_time": "2021-07-09T16:03:39.717961",
          "exception": false,
          "start_time": "2021-07-09T16:03:39.537445",
          "status": "completed"
        },
        "tags": [],
        "id": "continuing-lease",
        "outputId": "52c0a752-b877-4318-af79-7c77724cb69b"
      },
      "source": [
        "#reading train.csv\n",
        "train=pd.read_csv(DATA_PATH /'train.csv')\n",
        "train.sample(5)"
      ],
      "id": "continuing-lease",
      "execution_count": null,
      "outputs": [
        {
          "data": {
            "text/html": [
              "<div>\n",
              "<style scoped>\n",
              "    .dataframe tbody tr th:only-of-type {\n",
              "        vertical-align: middle;\n",
              "    }\n",
              "\n",
              "    .dataframe tbody tr th {\n",
              "        vertical-align: top;\n",
              "    }\n",
              "\n",
              "    .dataframe thead th {\n",
              "        text-align: right;\n",
              "    }\n",
              "</style>\n",
              "<table border=\"1\" class=\"dataframe\">\n",
              "  <thead>\n",
              "    <tr style=\"text-align: right;\">\n",
              "      <th></th>\n",
              "      <th>Id</th>\n",
              "      <th>pub_title</th>\n",
              "      <th>dataset_title</th>\n",
              "      <th>dataset_label</th>\n",
              "      <th>cleaned_label</th>\n",
              "    </tr>\n",
              "  </thead>\n",
              "  <tbody>\n",
              "    <tr>\n",
              "      <th>7763</th>\n",
              "      <td>bcd1b4eb-d6a3-4669-84ca-5fb5bf5e7193</td>\n",
              "      <td>7. AN ASSESSMENT OF POLICIES TO IMPROVE TEACHE...</td>\n",
              "      <td>Trends in International Mathematics and Scienc...</td>\n",
              "      <td>Trends in International Mathematics and Scienc...</td>\n",
              "      <td>trends in international mathematics and scienc...</td>\n",
              "    </tr>\n",
              "    <tr>\n",
              "      <th>11297</th>\n",
              "      <td>a7b26e45-1939-4950-9707-3a2b06e021d0</td>\n",
              "      <td>Modeling high-impact weather and climate: less...</td>\n",
              "      <td>International Best Track Archive for Climate S...</td>\n",
              "      <td>IBTrACS</td>\n",
              "      <td>ibtracs</td>\n",
              "    </tr>\n",
              "    <tr>\n",
              "      <th>11750</th>\n",
              "      <td>051f87f6-0b60-42fe-8d22-84614b95f859</td>\n",
              "      <td>Observations and a Model of the Mean Circulati...</td>\n",
              "      <td>World Ocean Database</td>\n",
              "      <td>World Ocean Database</td>\n",
              "      <td>world ocean database</td>\n",
              "    </tr>\n",
              "    <tr>\n",
              "      <th>17503</th>\n",
              "      <td>2558d9bc-89f4-4310-8f02-12243ed7930e</td>\n",
              "      <td>Sensitivity of Ground-Based Remote Sensing Est...</td>\n",
              "      <td>Census of Agriculture</td>\n",
              "      <td>Census of Agriculture</td>\n",
              "      <td>census of agriculture</td>\n",
              "    </tr>\n",
              "    <tr>\n",
              "      <th>5189</th>\n",
              "      <td>84387aee-43ad-48aa-bc4f-748bd8bcdc22</td>\n",
              "      <td>High body mass index, brain metabolism and con...</td>\n",
              "      <td>Alzheimer's Disease Neuroimaging Initiative (A...</td>\n",
              "      <td>ADNI</td>\n",
              "      <td>adni</td>\n",
              "    </tr>\n",
              "  </tbody>\n",
              "</table>\n",
              "</div>"
            ],
            "text/plain": [
              "                                         Id  \\\n",
              "7763   bcd1b4eb-d6a3-4669-84ca-5fb5bf5e7193   \n",
              "11297  a7b26e45-1939-4950-9707-3a2b06e021d0   \n",
              "11750  051f87f6-0b60-42fe-8d22-84614b95f859   \n",
              "17503  2558d9bc-89f4-4310-8f02-12243ed7930e   \n",
              "5189   84387aee-43ad-48aa-bc4f-748bd8bcdc22   \n",
              "\n",
              "                                               pub_title  \\\n",
              "7763   7. AN ASSESSMENT OF POLICIES TO IMPROVE TEACHE...   \n",
              "11297  Modeling high-impact weather and climate: less...   \n",
              "11750  Observations and a Model of the Mean Circulati...   \n",
              "17503  Sensitivity of Ground-Based Remote Sensing Est...   \n",
              "5189   High body mass index, brain metabolism and con...   \n",
              "\n",
              "                                           dataset_title  \\\n",
              "7763   Trends in International Mathematics and Scienc...   \n",
              "11297  International Best Track Archive for Climate S...   \n",
              "11750                               World Ocean Database   \n",
              "17503                              Census of Agriculture   \n",
              "5189   Alzheimer's Disease Neuroimaging Initiative (A...   \n",
              "\n",
              "                                           dataset_label  \\\n",
              "7763   Trends in International Mathematics and Scienc...   \n",
              "11297                                            IBTrACS   \n",
              "11750                               World Ocean Database   \n",
              "17503                              Census of Agriculture   \n",
              "5189                                                ADNI   \n",
              "\n",
              "                                           cleaned_label  \n",
              "7763   trends in international mathematics and scienc...  \n",
              "11297                                            ibtracs  \n",
              "11750                               world ocean database  \n",
              "17503                              census of agriculture  \n",
              "5189                                                adni  "
            ]
          },
          "execution_count": 5,
          "metadata": {},
          "output_type": "execute_result"
        }
      ]
    },
    {
      "cell_type": "markdown",
      "metadata": {
        "papermill": {
          "duration": 0.038393,
          "end_time": "2021-07-09T16:03:39.795055",
          "exception": false,
          "start_time": "2021-07-09T16:03:39.756662",
          "status": "completed"
        },
        "tags": [],
        "id": "innocent-medicare"
      },
      "source": [
        "* Let's take a look to the `Sample_submission.csv `:"
      ],
      "id": "innocent-medicare"
    },
    {
      "cell_type": "code",
      "metadata": {
        "execution": {
          "iopub.execute_input": "2021-07-09T16:03:39.880545Z",
          "iopub.status.busy": "2021-07-09T16:03:39.879861Z",
          "iopub.status.idle": "2021-07-09T16:03:39.896734Z",
          "shell.execute_reply": "2021-07-09T16:03:39.896086Z",
          "shell.execute_reply.started": "2021-07-09T15:53:41.384860Z"
        },
        "papermill": {
          "duration": 0.062522,
          "end_time": "2021-07-09T16:03:39.896900",
          "exception": false,
          "start_time": "2021-07-09T16:03:39.834378",
          "status": "completed"
        },
        "tags": [],
        "id": "crucial-fabric",
        "outputId": "4a198da2-9fab-4f4d-f31d-023968124ae9"
      },
      "source": [
        "sampleSubmission=pd.read_csv(DATA_PATH /'sample_submission.csv')\n",
        "sampleSubmission.head()"
      ],
      "id": "crucial-fabric",
      "execution_count": null,
      "outputs": [
        {
          "data": {
            "text/html": [
              "<div>\n",
              "<style scoped>\n",
              "    .dataframe tbody tr th:only-of-type {\n",
              "        vertical-align: middle;\n",
              "    }\n",
              "\n",
              "    .dataframe tbody tr th {\n",
              "        vertical-align: top;\n",
              "    }\n",
              "\n",
              "    .dataframe thead th {\n",
              "        text-align: right;\n",
              "    }\n",
              "</style>\n",
              "<table border=\"1\" class=\"dataframe\">\n",
              "  <thead>\n",
              "    <tr style=\"text-align: right;\">\n",
              "      <th></th>\n",
              "      <th>Id</th>\n",
              "      <th>PredictionString</th>\n",
              "    </tr>\n",
              "  </thead>\n",
              "  <tbody>\n",
              "    <tr>\n",
              "      <th>0</th>\n",
              "      <td>2100032a-7c33-4bff-97ef-690822c43466</td>\n",
              "      <td>NaN</td>\n",
              "    </tr>\n",
              "    <tr>\n",
              "      <th>1</th>\n",
              "      <td>2f392438-e215-4169-bebf-21ac4ff253e1</td>\n",
              "      <td>NaN</td>\n",
              "    </tr>\n",
              "    <tr>\n",
              "      <th>2</th>\n",
              "      <td>3f316b38-1a24-45a9-8d8c-4e05a42257c6</td>\n",
              "      <td>NaN</td>\n",
              "    </tr>\n",
              "    <tr>\n",
              "      <th>3</th>\n",
              "      <td>8e6996b4-ca08-4c0b-bed2-aaf07a4c6a60</td>\n",
              "      <td>NaN</td>\n",
              "    </tr>\n",
              "  </tbody>\n",
              "</table>\n",
              "</div>"
            ],
            "text/plain": [
              "                                     Id  PredictionString\n",
              "0  2100032a-7c33-4bff-97ef-690822c43466               NaN\n",
              "1  2f392438-e215-4169-bebf-21ac4ff253e1               NaN\n",
              "2  3f316b38-1a24-45a9-8d8c-4e05a42257c6               NaN\n",
              "3  8e6996b4-ca08-4c0b-bed2-aaf07a4c6a60               NaN"
            ]
          },
          "execution_count": 6,
          "metadata": {},
          "output_type": "execute_result"
        }
      ]
    },
    {
      "cell_type": "markdown",
      "metadata": {
        "papermill": {
          "duration": 0.038852,
          "end_time": "2021-07-09T16:03:39.977934",
          "exception": false,
          "start_time": "2021-07-09T16:03:39.939082",
          "status": "completed"
        },
        "tags": [],
        "id": "serial-layout"
      },
      "source": [
        "### 2 Basic Analysis :"
      ],
      "id": "serial-layout"
    },
    {
      "cell_type": "markdown",
      "metadata": {
        "papermill": {
          "duration": 0.038752,
          "end_time": "2021-07-09T16:03:40.056174",
          "exception": false,
          "start_time": "2021-07-09T16:03:40.017422",
          "status": "completed"
        },
        "tags": [],
        "id": "based-cambridge"
      },
      "source": [
        "* Training set shape :"
      ],
      "id": "based-cambridge"
    },
    {
      "cell_type": "code",
      "metadata": {
        "execution": {
          "iopub.execute_input": "2021-07-09T16:03:40.144500Z",
          "iopub.status.busy": "2021-07-09T16:03:40.142355Z",
          "iopub.status.idle": "2021-07-09T16:03:40.147312Z",
          "shell.execute_reply": "2021-07-09T16:03:40.146598Z",
          "shell.execute_reply.started": "2021-07-09T15:53:41.407451Z"
        },
        "papermill": {
          "duration": 0.050589,
          "end_time": "2021-07-09T16:03:40.147506",
          "exception": false,
          "start_time": "2021-07-09T16:03:40.096917",
          "status": "completed"
        },
        "tags": [],
        "id": "decimal-scanning",
        "outputId": "e12dc371-8d38-4a89-da20-6644f963ce68"
      },
      "source": [
        "print('Dimension of the training Dataset : {}'.format(colored(train.shape,'blue')))"
      ],
      "id": "decimal-scanning",
      "execution_count": null,
      "outputs": [
        {
          "name": "stdout",
          "output_type": "stream",
          "text": [
            "Dimension of the training Dataset : \u001b[34m(19661, 5)\u001b[0m\n"
          ]
        }
      ]
    },
    {
      "cell_type": "markdown",
      "metadata": {
        "papermill": {
          "duration": 0.039695,
          "end_time": "2021-07-09T16:03:40.228278",
          "exception": false,
          "start_time": "2021-07-09T16:03:40.188583",
          "status": "completed"
        },
        "tags": [],
        "id": "rubber-contractor"
      },
      "source": [
        "* Data Description :"
      ],
      "id": "rubber-contractor"
    },
    {
      "cell_type": "code",
      "metadata": {
        "execution": {
          "iopub.execute_input": "2021-07-09T16:03:40.324996Z",
          "iopub.status.busy": "2021-07-09T16:03:40.323966Z",
          "iopub.status.idle": "2021-07-09T16:03:40.337731Z",
          "shell.execute_reply": "2021-07-09T16:03:40.338383Z",
          "shell.execute_reply.started": "2021-07-09T15:53:41.419353Z"
        },
        "papermill": {
          "duration": 0.070261,
          "end_time": "2021-07-09T16:03:40.338624",
          "exception": false,
          "start_time": "2021-07-09T16:03:40.268363",
          "status": "completed"
        },
        "tags": [],
        "id": "photographic-warning",
        "outputId": "9ae27f57-128a-400a-8631-79958cbd24f0"
      },
      "source": [
        "train.info()"
      ],
      "id": "photographic-warning",
      "execution_count": null,
      "outputs": [
        {
          "name": "stdout",
          "output_type": "stream",
          "text": [
            "<class 'pandas.core.frame.DataFrame'>\n",
            "RangeIndex: 19661 entries, 0 to 19660\n",
            "Data columns (total 5 columns):\n",
            " #   Column         Non-Null Count  Dtype \n",
            "---  ------         --------------  ----- \n",
            " 0   Id             19661 non-null  object\n",
            " 1   pub_title      19661 non-null  object\n",
            " 2   dataset_title  19661 non-null  object\n",
            " 3   dataset_label  19661 non-null  object\n",
            " 4   cleaned_label  19661 non-null  object\n",
            "dtypes: object(5)\n",
            "memory usage: 768.1+ KB\n"
          ]
        }
      ]
    },
    {
      "cell_type": "code",
      "metadata": {
        "execution": {
          "iopub.execute_input": "2021-07-09T16:03:40.435437Z",
          "iopub.status.busy": "2021-07-09T16:03:40.434299Z",
          "iopub.status.idle": "2021-07-09T16:03:40.444854Z",
          "shell.execute_reply": "2021-07-09T16:03:40.444349Z",
          "shell.execute_reply.started": "2021-07-09T15:53:41.448434Z"
        },
        "papermill": {
          "duration": 0.065528,
          "end_time": "2021-07-09T16:03:40.444997",
          "exception": false,
          "start_time": "2021-07-09T16:03:40.379469",
          "status": "completed"
        },
        "tags": [],
        "id": "unable-failure",
        "outputId": "018a27b5-5d4a-4fe1-bfb7-4cc4b5a4ac0a"
      },
      "source": [
        "train.isnull().sum().to_frame('NaN Values')"
      ],
      "id": "unable-failure",
      "execution_count": null,
      "outputs": [
        {
          "data": {
            "text/html": [
              "<div>\n",
              "<style scoped>\n",
              "    .dataframe tbody tr th:only-of-type {\n",
              "        vertical-align: middle;\n",
              "    }\n",
              "\n",
              "    .dataframe tbody tr th {\n",
              "        vertical-align: top;\n",
              "    }\n",
              "\n",
              "    .dataframe thead th {\n",
              "        text-align: right;\n",
              "    }\n",
              "</style>\n",
              "<table border=\"1\" class=\"dataframe\">\n",
              "  <thead>\n",
              "    <tr style=\"text-align: right;\">\n",
              "      <th></th>\n",
              "      <th>NaN Values</th>\n",
              "    </tr>\n",
              "  </thead>\n",
              "  <tbody>\n",
              "    <tr>\n",
              "      <th>Id</th>\n",
              "      <td>0</td>\n",
              "    </tr>\n",
              "    <tr>\n",
              "      <th>pub_title</th>\n",
              "      <td>0</td>\n",
              "    </tr>\n",
              "    <tr>\n",
              "      <th>dataset_title</th>\n",
              "      <td>0</td>\n",
              "    </tr>\n",
              "    <tr>\n",
              "      <th>dataset_label</th>\n",
              "      <td>0</td>\n",
              "    </tr>\n",
              "    <tr>\n",
              "      <th>cleaned_label</th>\n",
              "      <td>0</td>\n",
              "    </tr>\n",
              "  </tbody>\n",
              "</table>\n",
              "</div>"
            ],
            "text/plain": [
              "               NaN Values\n",
              "Id                      0\n",
              "pub_title               0\n",
              "dataset_title           0\n",
              "dataset_label           0\n",
              "cleaned_label           0"
            ]
          },
          "execution_count": 9,
          "metadata": {},
          "output_type": "execute_result"
        }
      ]
    },
    {
      "cell_type": "markdown",
      "metadata": {
        "papermill": {
          "duration": 0.040136,
          "end_time": "2021-07-09T16:03:40.526387",
          "exception": false,
          "start_time": "2021-07-09T16:03:40.486251",
          "status": "completed"
        },
        "tags": [],
        "id": "labeled-parallel"
      },
      "source": [
        "We don't have any duplicated value on the train set"
      ],
      "id": "labeled-parallel"
    },
    {
      "cell_type": "code",
      "metadata": {
        "execution": {
          "iopub.execute_input": "2021-07-09T16:03:40.616567Z",
          "iopub.status.busy": "2021-07-09T16:03:40.615635Z",
          "iopub.status.idle": "2021-07-09T16:03:40.636829Z",
          "shell.execute_reply": "2021-07-09T16:03:40.637297Z",
          "shell.execute_reply.started": "2021-07-09T15:53:41.472799Z"
        },
        "papermill": {
          "duration": 0.069591,
          "end_time": "2021-07-09T16:03:40.637484",
          "exception": false,
          "start_time": "2021-07-09T16:03:40.567893",
          "status": "completed"
        },
        "tags": [],
        "id": "talented-joyce",
        "outputId": "70d9cac8-819e-4ab0-dcc8-13af3b3c7833"
      },
      "source": [
        "print('All rows :',colored(train.shape[0],'red'))\n",
        "for column in train.columns:\n",
        "    print(\"{} : {}\".format(column,colored(len(train[column].unique()),'blue')))"
      ],
      "id": "talented-joyce",
      "execution_count": null,
      "outputs": [
        {
          "name": "stdout",
          "output_type": "stream",
          "text": [
            "All rows : \u001b[31m19661\u001b[0m\n",
            "Id : \u001b[34m14316\u001b[0m\n",
            "pub_title : \u001b[34m14271\u001b[0m\n",
            "dataset_title : \u001b[34m45\u001b[0m\n",
            "dataset_label : \u001b[34m130\u001b[0m\n",
            "cleaned_label : \u001b[34m130\u001b[0m\n"
          ]
        }
      ]
    },
    {
      "cell_type": "markdown",
      "metadata": {
        "papermill": {
          "duration": 0.04031,
          "end_time": "2021-07-09T16:03:40.717641",
          "exception": false,
          "start_time": "2021-07-09T16:03:40.677331",
          "status": "completed"
        },
        "tags": [],
        "id": "indonesian-death"
      },
      "source": [
        "* we have 14316 unique `Publication Id` that's mean there's some publication mentioning more than one data set.\n",
        "* for the `publication title` there's less unique values than `Publication Id` So there're diffirent publications with same title.\n",
        "* 45 `Dataset title` and 130 `Dataset Label` that's mean there're some datasets with multiple labels"
      ],
      "id": "indonesian-death"
    },
    {
      "cell_type": "markdown",
      "metadata": {
        "papermill": {
          "duration": 0.040542,
          "end_time": "2021-07-09T16:03:40.798872",
          "exception": false,
          "start_time": "2021-07-09T16:03:40.758330",
          "status": "completed"
        },
        "tags": [],
        "id": "european-oakland"
      },
      "source": [
        "### 3 Reading JSON format :"
      ],
      "id": "european-oakland"
    },
    {
      "cell_type": "markdown",
      "metadata": {
        "papermill": {
          "duration": 0.039742,
          "end_time": "2021-07-09T16:03:40.878822",
          "exception": false,
          "start_time": "2021-07-09T16:03:40.839080",
          "status": "completed"
        },
        "tags": [],
        "id": "hearing-atmosphere"
      },
      "source": [
        "The publications that we will use in train and test are provided  in JSON format, broken up into sections with section titles."
      ],
      "id": "hearing-atmosphere"
    },
    {
      "cell_type": "code",
      "metadata": {
        "execution": {
          "iopub.execute_input": "2021-07-09T16:03:40.964573Z",
          "iopub.status.busy": "2021-07-09T16:03:40.963586Z",
          "iopub.status.idle": "2021-07-09T16:03:40.966651Z",
          "shell.execute_reply": "2021-07-09T16:03:40.966161Z",
          "shell.execute_reply.started": "2021-07-09T15:53:41.500770Z"
        },
        "papermill": {
          "duration": 0.047808,
          "end_time": "2021-07-09T16:03:40.966793",
          "exception": false,
          "start_time": "2021-07-09T16:03:40.918985",
          "status": "completed"
        },
        "tags": [],
        "id": "economic-jerusalem"
      },
      "source": [
        "trainFilesPath =DATA_PATH /'train'\n",
        "testFilesPath = DATA_PATH /'test'"
      ],
      "id": "economic-jerusalem",
      "execution_count": null,
      "outputs": []
    },
    {
      "cell_type": "code",
      "metadata": {
        "execution": {
          "iopub.execute_input": "2021-07-09T16:03:41.056786Z",
          "iopub.status.busy": "2021-07-09T16:03:41.055720Z",
          "iopub.status.idle": "2021-07-09T16:03:41.058981Z",
          "shell.execute_reply": "2021-07-09T16:03:41.058434Z",
          "shell.execute_reply.started": "2021-07-09T15:53:41.507708Z"
        },
        "papermill": {
          "duration": 0.051444,
          "end_time": "2021-07-09T16:03:41.059162",
          "exception": false,
          "start_time": "2021-07-09T16:03:41.007718",
          "status": "completed"
        },
        "tags": [],
        "id": "living-helena"
      },
      "source": [
        "def ReadJsonFiles(fileName, InputPath):\n",
        "    \"\"\"\n",
        "    This Function get the Publication text from Json file without Section titles\n",
        "    \"\"\"\n",
        "    \n",
        "    JsonPATH = os.path.join(InputPath, (fileName+'.json'))\n",
        "    \n",
        "    publicationSections = []\n",
        "    \n",
        "    with open(JsonPATH, 'r') as file:\n",
        "        json_decode = json.load(file)\n",
        "        for data in json_decode:\n",
        "            publicationSections.append(data.get('text'))\n",
        "    \n",
        "    publicationText = ' '.join(publicationSections)\n",
        "    \n",
        "    return publicationText"
      ],
      "id": "living-helena",
      "execution_count": null,
      "outputs": []
    },
    {
      "cell_type": "markdown",
      "metadata": {
        "papermill": {
          "duration": 0.040124,
          "end_time": "2021-07-09T16:03:41.141305",
          "exception": false,
          "start_time": "2021-07-09T16:03:41.101181",
          "status": "completed"
        },
        "tags": [],
        "id": "impressed-chamber"
      },
      "source": [
        "Let's apply `ReadJsonFile` to train and Submission Set (Kaggle Test Set):"
      ],
      "id": "impressed-chamber"
    },
    {
      "cell_type": "code",
      "metadata": {
        "execution": {
          "iopub.execute_input": "2021-07-09T16:03:41.252820Z",
          "iopub.status.busy": "2021-07-09T16:03:41.251564Z",
          "iopub.status.idle": "2021-07-09T16:05:07.823169Z",
          "shell.execute_reply": "2021-07-09T16:05:07.822103Z",
          "shell.execute_reply.started": "2021-07-09T15:53:41.519104Z"
        },
        "papermill": {
          "duration": 86.641568,
          "end_time": "2021-07-09T16:05:07.823320",
          "exception": false,
          "start_time": "2021-07-09T16:03:41.181752",
          "status": "completed"
        },
        "tags": [],
        "id": "broke-batman",
        "outputId": "db7211c4-e230-42f6-c2dc-77e0cdbfc957"
      },
      "source": [
        "#Extract text from json file and plus its column to train and sampleSubmission csv file:\n",
        "tqdm.pandas()\n",
        "train['publicationText']=train['Id'].progress_apply(lambda x:ReadJsonFiles(x,trainFilesPath))\n",
        "sampleSubmission['publicationText']=sampleSubmission['Id'].progress_apply(lambda x:ReadJsonFiles(x,testFilesPath))"
      ],
      "id": "broke-batman",
      "execution_count": null,
      "outputs": [
        {
          "data": {
            "application/vnd.jupyter.widget-view+json": {
              "model_id": "5aa1aa39d6a54badb6960cf5ed0b31c2",
              "version_major": 2,
              "version_minor": 0
            },
            "text/plain": [
              "HBox(children=(FloatProgress(value=0.0, max=19661.0), HTML(value='')))"
            ]
          },
          "metadata": {},
          "output_type": "display_data"
        },
        {
          "name": "stdout",
          "output_type": "stream",
          "text": [
            "\n"
          ]
        },
        {
          "data": {
            "application/vnd.jupyter.widget-view+json": {
              "model_id": "1255b517417d425da0565de5a0413feb",
              "version_major": 2,
              "version_minor": 0
            },
            "text/plain": [
              "HBox(children=(FloatProgress(value=0.0, max=4.0), HTML(value='')))"
            ]
          },
          "metadata": {},
          "output_type": "display_data"
        },
        {
          "name": "stdout",
          "output_type": "stream",
          "text": [
            "\n"
          ]
        }
      ]
    },
    {
      "cell_type": "code",
      "metadata": {
        "execution": {
          "iopub.execute_input": "2021-07-09T16:05:07.915650Z",
          "iopub.status.busy": "2021-07-09T16:05:07.914586Z",
          "iopub.status.idle": "2021-07-09T16:05:07.936879Z",
          "shell.execute_reply": "2021-07-09T16:05:07.937420Z",
          "shell.execute_reply.started": "2021-07-09T15:55:12.319699Z"
        },
        "papermill": {
          "duration": 0.072348,
          "end_time": "2021-07-09T16:05:07.937627",
          "exception": false,
          "start_time": "2021-07-09T16:05:07.865279",
          "status": "completed"
        },
        "tags": [],
        "id": "nuclear-warner",
        "outputId": "25f77667-5918-4850-a784-38d66c73ac7e"
      },
      "source": [
        "train.sample(5)"
      ],
      "id": "nuclear-warner",
      "execution_count": null,
      "outputs": [
        {
          "data": {
            "text/html": [
              "<div>\n",
              "<style scoped>\n",
              "    .dataframe tbody tr th:only-of-type {\n",
              "        vertical-align: middle;\n",
              "    }\n",
              "\n",
              "    .dataframe tbody tr th {\n",
              "        vertical-align: top;\n",
              "    }\n",
              "\n",
              "    .dataframe thead th {\n",
              "        text-align: right;\n",
              "    }\n",
              "</style>\n",
              "<table border=\"1\" class=\"dataframe\">\n",
              "  <thead>\n",
              "    <tr style=\"text-align: right;\">\n",
              "      <th></th>\n",
              "      <th>Id</th>\n",
              "      <th>pub_title</th>\n",
              "      <th>dataset_title</th>\n",
              "      <th>dataset_label</th>\n",
              "      <th>cleaned_label</th>\n",
              "      <th>publicationText</th>\n",
              "    </tr>\n",
              "  </thead>\n",
              "  <tbody>\n",
              "    <tr>\n",
              "      <th>15141</th>\n",
              "      <td>6db465a5-51ed-4bb8-8211-2be2fa1a298a</td>\n",
              "      <td>The U.S. Scientific and Technical Workforce I...</td>\n",
              "      <td>Survey of Graduate Students and Postdoctorates...</td>\n",
              "      <td>Survey of Graduate Students and Postdoctorates...</td>\n",
              "      <td>survey of graduate students and postdoctorates...</td>\n",
              "      <td>The Office of Science and Technology Policy (O...</td>\n",
              "    </tr>\n",
              "    <tr>\n",
              "      <th>13086</th>\n",
              "      <td>49dc08db-15c0-4949-aa20-7ce1fe1a9e0b</td>\n",
              "      <td>Choosing a Postsecondary Institution. Statisti...</td>\n",
              "      <td>Beginning Postsecondary Student</td>\n",
              "      <td>Beginning Postsecondary Student</td>\n",
              "      <td>beginning postsecondary student</td>\n",
              "      <td>In general, beginning postsecondary students w...</td>\n",
              "    </tr>\n",
              "    <tr>\n",
              "      <th>5684</th>\n",
              "      <td>f80261df-de7a-4635-a174-62e746ded42d</td>\n",
              "      <td>Early Cerebral Small Vessel Disease and Brain ...</td>\n",
              "      <td>Alzheimer's Disease Neuroimaging Initiative (A...</td>\n",
              "      <td>ADNI</td>\n",
              "      <td>adni</td>\n",
              "      <td>Objective: Decline in cognitive function begin...</td>\n",
              "    </tr>\n",
              "    <tr>\n",
              "      <th>9813</th>\n",
              "      <td>4d05fc57-5d03-4937-9674-29357955ca80</td>\n",
              "      <td>Extension and refinement of the predictive val...</td>\n",
              "      <td>Alzheimer's Disease Neuroimaging Initiative (A...</td>\n",
              "      <td>Alzheimer's Disease Neuroimaging Initiative (A...</td>\n",
              "      <td>alzheimer s disease neuroimaging initiative adni</td>\n",
              "      <td>Background: This study examined the predictive...</td>\n",
              "    </tr>\n",
              "    <tr>\n",
              "      <th>16772</th>\n",
              "      <td>d1562dc2-f009-49eb-acd7-349ee33828fd</td>\n",
              "      <td>Trajectories of physiological dysregulation pr...</td>\n",
              "      <td>Baltimore Longitudinal Study of Aging (BLSA)</td>\n",
              "      <td>Baltimore Longitudinal Study of Aging</td>\n",
              "      <td>baltimore longitudinal study of aging</td>\n",
              "      <td>Scientists studying aging do so along two fron...</td>\n",
              "    </tr>\n",
              "  </tbody>\n",
              "</table>\n",
              "</div>"
            ],
            "text/plain": [
              "                                         Id  \\\n",
              "15141  6db465a5-51ed-4bb8-8211-2be2fa1a298a   \n",
              "13086  49dc08db-15c0-4949-aa20-7ce1fe1a9e0b   \n",
              "5684   f80261df-de7a-4635-a174-62e746ded42d   \n",
              "9813   4d05fc57-5d03-4937-9674-29357955ca80   \n",
              "16772  d1562dc2-f009-49eb-acd7-349ee33828fd   \n",
              "\n",
              "                                               pub_title  \\\n",
              "15141   The U.S. Scientific and Technical Workforce I...   \n",
              "13086  Choosing a Postsecondary Institution. Statisti...   \n",
              "5684   Early Cerebral Small Vessel Disease and Brain ...   \n",
              "9813   Extension and refinement of the predictive val...   \n",
              "16772  Trajectories of physiological dysregulation pr...   \n",
              "\n",
              "                                           dataset_title  \\\n",
              "15141  Survey of Graduate Students and Postdoctorates...   \n",
              "13086                    Beginning Postsecondary Student   \n",
              "5684   Alzheimer's Disease Neuroimaging Initiative (A...   \n",
              "9813   Alzheimer's Disease Neuroimaging Initiative (A...   \n",
              "16772       Baltimore Longitudinal Study of Aging (BLSA)   \n",
              "\n",
              "                                           dataset_label  \\\n",
              "15141  Survey of Graduate Students and Postdoctorates...   \n",
              "13086                    Beginning Postsecondary Student   \n",
              "5684                                                ADNI   \n",
              "9813   Alzheimer's Disease Neuroimaging Initiative (A...   \n",
              "16772              Baltimore Longitudinal Study of Aging   \n",
              "\n",
              "                                           cleaned_label  \\\n",
              "15141  survey of graduate students and postdoctorates...   \n",
              "13086                    beginning postsecondary student   \n",
              "5684                                                adni   \n",
              "9813   alzheimer s disease neuroimaging initiative adni    \n",
              "16772              baltimore longitudinal study of aging   \n",
              "\n",
              "                                         publicationText  \n",
              "15141  The Office of Science and Technology Policy (O...  \n",
              "13086  In general, beginning postsecondary students w...  \n",
              "5684   Objective: Decline in cognitive function begin...  \n",
              "9813   Background: This study examined the predictive...  \n",
              "16772  Scientists studying aging do so along two fron...  "
            ]
          },
          "execution_count": 14,
          "metadata": {},
          "output_type": "execute_result"
        }
      ]
    },
    {
      "cell_type": "code",
      "metadata": {
        "execution": {
          "iopub.execute_input": "2021-07-09T16:05:08.036985Z",
          "iopub.status.busy": "2021-07-09T16:05:08.035968Z",
          "iopub.status.idle": "2021-07-09T16:05:08.040049Z",
          "shell.execute_reply": "2021-07-09T16:05:08.040590Z",
          "shell.execute_reply.started": "2021-07-09T15:55:12.343781Z"
        },
        "papermill": {
          "duration": 0.060144,
          "end_time": "2021-07-09T16:05:08.040769",
          "exception": false,
          "start_time": "2021-07-09T16:05:07.980625",
          "status": "completed"
        },
        "tags": [],
        "id": "naughty-relation",
        "outputId": "3be6c8ed-33c7-43bc-a444-efdc122915ee"
      },
      "source": [
        "sampleSubmission.head()"
      ],
      "id": "naughty-relation",
      "execution_count": null,
      "outputs": [
        {
          "data": {
            "text/html": [
              "<div>\n",
              "<style scoped>\n",
              "    .dataframe tbody tr th:only-of-type {\n",
              "        vertical-align: middle;\n",
              "    }\n",
              "\n",
              "    .dataframe tbody tr th {\n",
              "        vertical-align: top;\n",
              "    }\n",
              "\n",
              "    .dataframe thead th {\n",
              "        text-align: right;\n",
              "    }\n",
              "</style>\n",
              "<table border=\"1\" class=\"dataframe\">\n",
              "  <thead>\n",
              "    <tr style=\"text-align: right;\">\n",
              "      <th></th>\n",
              "      <th>Id</th>\n",
              "      <th>PredictionString</th>\n",
              "      <th>publicationText</th>\n",
              "    </tr>\n",
              "  </thead>\n",
              "  <tbody>\n",
              "    <tr>\n",
              "      <th>0</th>\n",
              "      <td>2100032a-7c33-4bff-97ef-690822c43466</td>\n",
              "      <td>NaN</td>\n",
              "      <td>Cognitive deficits and reduced educational ach...</td>\n",
              "    </tr>\n",
              "    <tr>\n",
              "      <th>1</th>\n",
              "      <td>2f392438-e215-4169-bebf-21ac4ff253e1</td>\n",
              "      <td>NaN</td>\n",
              "      <td>This report describes how the education system...</td>\n",
              "    </tr>\n",
              "    <tr>\n",
              "      <th>2</th>\n",
              "      <td>3f316b38-1a24-45a9-8d8c-4e05a42257c6</td>\n",
              "      <td>NaN</td>\n",
              "      <td>Cape Hatteras National Seashore (CAHA), locate...</td>\n",
              "    </tr>\n",
              "    <tr>\n",
              "      <th>3</th>\n",
              "      <td>8e6996b4-ca08-4c0b-bed2-aaf07a4c6a60</td>\n",
              "      <td>NaN</td>\n",
              "      <td>A significant body of research has been conduc...</td>\n",
              "    </tr>\n",
              "  </tbody>\n",
              "</table>\n",
              "</div>"
            ],
            "text/plain": [
              "                                     Id  PredictionString  \\\n",
              "0  2100032a-7c33-4bff-97ef-690822c43466               NaN   \n",
              "1  2f392438-e215-4169-bebf-21ac4ff253e1               NaN   \n",
              "2  3f316b38-1a24-45a9-8d8c-4e05a42257c6               NaN   \n",
              "3  8e6996b4-ca08-4c0b-bed2-aaf07a4c6a60               NaN   \n",
              "\n",
              "                                     publicationText  \n",
              "0  Cognitive deficits and reduced educational ach...  \n",
              "1  This report describes how the education system...  \n",
              "2  Cape Hatteras National Seashore (CAHA), locate...  \n",
              "3  A significant body of research has been conduc...  "
            ]
          },
          "execution_count": 15,
          "metadata": {},
          "output_type": "execute_result"
        }
      ]
    },
    {
      "cell_type": "markdown",
      "metadata": {
        "execution": {
          "iopub.execute_input": "2021-07-07T13:45:36.034683Z",
          "iopub.status.busy": "2021-07-07T13:45:36.034275Z",
          "iopub.status.idle": "2021-07-07T13:45:36.040544Z",
          "shell.execute_reply": "2021-07-07T13:45:36.039327Z",
          "shell.execute_reply.started": "2021-07-07T13:45:36.034596Z"
        },
        "papermill": {
          "duration": 0.042948,
          "end_time": "2021-07-09T16:05:08.131098",
          "exception": false,
          "start_time": "2021-07-09T16:05:08.088150",
          "status": "completed"
        },
        "tags": [],
        "id": "threatened-corps"
      },
      "source": [
        "# <font color='#FF4500'>Data Pre-Processing 🔧"
      ],
      "id": "threatened-corps"
    },
    {
      "cell_type": "markdown",
      "metadata": {
        "papermill": {
          "duration": 0.04356,
          "end_time": "2021-07-09T16:05:08.218161",
          "exception": false,
          "start_time": "2021-07-09T16:05:08.174601",
          "status": "completed"
        },
        "tags": [],
        "id": "retained-cartoon"
      },
      "source": [
        "Let's do some data cleaning\n",
        "\n",
        "`TextCleaning` function will help us to convert all text to lower case, remove special charecters, emojis and multiple spaces"
      ],
      "id": "retained-cartoon"
    },
    {
      "cell_type": "code",
      "metadata": {
        "execution": {
          "iopub.execute_input": "2021-07-09T16:05:08.313560Z",
          "iopub.status.busy": "2021-07-09T16:05:08.312792Z",
          "iopub.status.idle": "2021-07-09T16:05:08.316490Z",
          "shell.execute_reply": "2021-07-09T16:05:08.316009Z",
          "shell.execute_reply.started": "2021-07-09T15:55:12.357042Z"
        },
        "papermill": {
          "duration": 0.055166,
          "end_time": "2021-07-09T16:05:08.316627",
          "exception": false,
          "start_time": "2021-07-09T16:05:08.261461",
          "status": "completed"
        },
        "tags": [],
        "id": "desirable-bankruptcy"
      },
      "source": [
        "def TextCleaning(text):\n",
        "    \n",
        "   \n",
        "    text = ''.join([k for k in text if k not in string.punctuation])#Delete punctuation\n",
        "    text = re.sub('[^A-Za-z0-9]+', ' ', str(text).lower()).strip()  #Convert all text to lower case\n",
        "    text = re.sub(' +', ' ', text)\n",
        "\n",
        "    \n",
        "    emoji_pattern = re.compile(\"[\"\n",
        "                               u\"\\U0001F600-\\U0001F64F\"  # emoticons\n",
        "                               u\"\\U0001F300-\\U0001F5FF\"  # symbols & pictographs\n",
        "                               u\"\\U0001F680-\\U0001F6FF\"  # transport & map symbols\n",
        "                               u\"\\U0001F1E0-\\U0001F1FF\"  # flags (iOS)\n",
        "                               \"]+\", flags=re.UNICODE)\n",
        "    text = emoji_pattern.sub(r'', text)\n",
        "    return text"
      ],
      "id": "desirable-bankruptcy",
      "execution_count": null,
      "outputs": []
    },
    {
      "cell_type": "code",
      "metadata": {
        "execution": {
          "iopub.execute_input": "2021-07-09T16:05:08.408163Z",
          "iopub.status.busy": "2021-07-09T16:05:08.407507Z",
          "iopub.status.idle": "2021-07-09T16:05:08.414488Z",
          "shell.execute_reply": "2021-07-09T16:05:08.413967Z",
          "shell.execute_reply.started": "2021-07-09T15:55:12.367566Z"
        },
        "papermill": {
          "duration": 0.055269,
          "end_time": "2021-07-09T16:05:08.414624",
          "exception": false,
          "start_time": "2021-07-09T16:05:08.359355",
          "status": "completed"
        },
        "tags": [],
        "id": "sporting-mailman",
        "outputId": "bcb7e800-3488-4f0f-f785-9050ae81264b"
      },
      "source": [
        "#Example :\n",
        "TextCleaning('Hello World 😀')"
      ],
      "id": "sporting-mailman",
      "execution_count": null,
      "outputs": [
        {
          "data": {
            "text/plain": [
              "'hello world'"
            ]
          },
          "execution_count": 17,
          "metadata": {},
          "output_type": "execute_result"
        }
      ]
    },
    {
      "cell_type": "code",
      "metadata": {
        "execution": {
          "iopub.execute_input": "2021-07-09T16:05:08.532126Z",
          "iopub.status.busy": "2021-07-09T16:05:08.530989Z",
          "iopub.status.idle": "2021-07-09T16:11:39.745225Z",
          "shell.execute_reply": "2021-07-09T16:11:39.743294Z",
          "shell.execute_reply.started": "2021-07-09T15:55:12.378182Z"
        },
        "papermill": {
          "duration": 391.286319,
          "end_time": "2021-07-09T16:11:39.745381",
          "exception": false,
          "start_time": "2021-07-09T16:05:08.459062",
          "status": "completed"
        },
        "tags": [],
        "colab": {
          "referenced_widgets": [
            "3a26e3e7c64b4395a0b285a3b3c66db9",
            "bc3b8066013c4622b616235789a33233"
          ]
        },
        "id": "brown-lodging",
        "outputId": "53b64d2d-8d27-49bc-8321-721ad9b52fdd"
      },
      "source": [
        "tqdm.pandas()\n",
        "train['publicationText']=train['publicationText'].progress_apply(lambda x:TextCleaning(x))\n",
        "sampleSubmission['publicationText']=sampleSubmission['publicationText'].progress_apply(lambda x: TextCleaning(x))"
      ],
      "id": "brown-lodging",
      "execution_count": null,
      "outputs": [
        {
          "data": {
            "application/vnd.jupyter.widget-view+json": {
              "model_id": "3a26e3e7c64b4395a0b285a3b3c66db9",
              "version_major": 2,
              "version_minor": 0
            },
            "text/plain": [
              "HBox(children=(FloatProgress(value=0.0, max=19661.0), HTML(value='')))"
            ]
          },
          "metadata": {},
          "output_type": "display_data"
        },
        {
          "name": "stdout",
          "output_type": "stream",
          "text": [
            "\n"
          ]
        },
        {
          "data": {
            "application/vnd.jupyter.widget-view+json": {
              "model_id": "bc3b8066013c4622b616235789a33233",
              "version_major": 2,
              "version_minor": 0
            },
            "text/plain": [
              "HBox(children=(FloatProgress(value=0.0, max=4.0), HTML(value='')))"
            ]
          },
          "metadata": {},
          "output_type": "display_data"
        },
        {
          "name": "stdout",
          "output_type": "stream",
          "text": [
            "\n"
          ]
        }
      ]
    },
    {
      "cell_type": "code",
      "metadata": {
        "execution": {
          "iopub.execute_input": "2021-07-09T16:11:39.850807Z",
          "iopub.status.busy": "2021-07-09T16:11:39.849790Z",
          "iopub.status.idle": "2021-07-09T16:11:39.853923Z",
          "shell.execute_reply": "2021-07-09T16:11:39.854481Z",
          "shell.execute_reply.started": "2021-07-09T16:00:24.464401Z"
        },
        "papermill": {
          "duration": 0.064072,
          "end_time": "2021-07-09T16:11:39.854662",
          "exception": false,
          "start_time": "2021-07-09T16:11:39.790590",
          "status": "completed"
        },
        "tags": [],
        "id": "subsequent-grain",
        "outputId": "99b27ef9-3277-4849-f119-5baebb65977b"
      },
      "source": [
        "sampleSubmission"
      ],
      "id": "subsequent-grain",
      "execution_count": null,
      "outputs": [
        {
          "data": {
            "text/html": [
              "<div>\n",
              "<style scoped>\n",
              "    .dataframe tbody tr th:only-of-type {\n",
              "        vertical-align: middle;\n",
              "    }\n",
              "\n",
              "    .dataframe tbody tr th {\n",
              "        vertical-align: top;\n",
              "    }\n",
              "\n",
              "    .dataframe thead th {\n",
              "        text-align: right;\n",
              "    }\n",
              "</style>\n",
              "<table border=\"1\" class=\"dataframe\">\n",
              "  <thead>\n",
              "    <tr style=\"text-align: right;\">\n",
              "      <th></th>\n",
              "      <th>Id</th>\n",
              "      <th>PredictionString</th>\n",
              "      <th>publicationText</th>\n",
              "    </tr>\n",
              "  </thead>\n",
              "  <tbody>\n",
              "    <tr>\n",
              "      <th>0</th>\n",
              "      <td>2100032a-7c33-4bff-97ef-690822c43466</td>\n",
              "      <td>NaN</td>\n",
              "      <td>cognitive deficits and reduced educational ach...</td>\n",
              "    </tr>\n",
              "    <tr>\n",
              "      <th>1</th>\n",
              "      <td>2f392438-e215-4169-bebf-21ac4ff253e1</td>\n",
              "      <td>NaN</td>\n",
              "      <td>this report describes how the education system...</td>\n",
              "    </tr>\n",
              "    <tr>\n",
              "      <th>2</th>\n",
              "      <td>3f316b38-1a24-45a9-8d8c-4e05a42257c6</td>\n",
              "      <td>NaN</td>\n",
              "      <td>cape hatteras national seashore caha located a...</td>\n",
              "    </tr>\n",
              "    <tr>\n",
              "      <th>3</th>\n",
              "      <td>8e6996b4-ca08-4c0b-bed2-aaf07a4c6a60</td>\n",
              "      <td>NaN</td>\n",
              "      <td>a significant body of research has been conduc...</td>\n",
              "    </tr>\n",
              "  </tbody>\n",
              "</table>\n",
              "</div>"
            ],
            "text/plain": [
              "                                     Id  PredictionString  \\\n",
              "0  2100032a-7c33-4bff-97ef-690822c43466               NaN   \n",
              "1  2f392438-e215-4169-bebf-21ac4ff253e1               NaN   \n",
              "2  3f316b38-1a24-45a9-8d8c-4e05a42257c6               NaN   \n",
              "3  8e6996b4-ca08-4c0b-bed2-aaf07a4c6a60               NaN   \n",
              "\n",
              "                                     publicationText  \n",
              "0  cognitive deficits and reduced educational ach...  \n",
              "1  this report describes how the education system...  \n",
              "2  cape hatteras national seashore caha located a...  \n",
              "3  a significant body of research has been conduc...  "
            ]
          },
          "execution_count": 19,
          "metadata": {},
          "output_type": "execute_result"
        }
      ]
    },
    {
      "cell_type": "code",
      "metadata": {
        "execution": {
          "iopub.execute_input": "2021-07-09T16:11:39.954669Z",
          "iopub.status.busy": "2021-07-09T16:11:39.953832Z",
          "iopub.status.idle": "2021-07-09T16:11:39.969848Z",
          "shell.execute_reply": "2021-07-09T16:11:39.969221Z",
          "shell.execute_reply.started": "2021-07-09T16:00:24.478162Z"
        },
        "papermill": {
          "duration": 0.067163,
          "end_time": "2021-07-09T16:11:39.970002",
          "exception": false,
          "start_time": "2021-07-09T16:11:39.902839",
          "status": "completed"
        },
        "tags": [],
        "id": "rotary-navigator"
      },
      "source": [
        "papers = {}\n",
        "for paper_id in sampleSubmission['Id']:\n",
        "    with open(f'{testFilesPath}/{paper_id}.json', 'r') as f:\n",
        "        paper = json.load(f)\n",
        "        papers[paper_id] = paper"
      ],
      "id": "rotary-navigator",
      "execution_count": null,
      "outputs": []
    },
    {
      "cell_type": "markdown",
      "metadata": {
        "papermill": {
          "duration": 0.045041,
          "end_time": "2021-07-09T16:11:40.060819",
          "exception": false,
          "start_time": "2021-07-09T16:11:40.015778",
          "status": "completed"
        },
        "tags": [],
        "id": "amended-medication"
      },
      "source": [
        "# <font color='#FF4500'>Matching 📑"
      ],
      "id": "amended-medication"
    },
    {
      "cell_type": "code",
      "metadata": {
        "execution": {
          "iopub.execute_input": "2021-07-09T16:11:40.167612Z",
          "iopub.status.busy": "2021-07-09T16:11:40.166928Z",
          "iopub.status.idle": "2021-07-09T16:11:41.696899Z",
          "shell.execute_reply": "2021-07-09T16:11:41.696324Z",
          "shell.execute_reply.started": "2021-07-09T16:00:24.499432Z"
        },
        "papermill": {
          "duration": 1.590208,
          "end_time": "2021-07-09T16:11:41.697044",
          "exception": false,
          "start_time": "2021-07-09T16:11:40.106836",
          "status": "completed"
        },
        "tags": [],
        "colab": {
          "referenced_widgets": [
            "9a282ef6732249679d726219b3b2c331"
          ]
        },
        "id": "otherwise-influence",
        "outputId": "95191a68-1a3c-40d2-e034-3ced94fdb80c"
      },
      "source": [
        "adnl_govt_labels = pd.read_csv('../input/bigger-govt-dataset-list/data_set_800.csv')\n",
        "\n",
        "literal_preds = []\n",
        "to_append = []\n",
        "for index, row in tqdm(sampleSubmission.iterrows()):\n",
        "    to_append = [row['Id'],'']\n",
        "    \n",
        "    clean_string = row['publicationText']\n",
        "    for index, row2 in adnl_govt_labels.iterrows():\n",
        "        query_string = str(row2['title'])\n",
        "        if query_string in clean_string:\n",
        "            if to_append[1] != '' and query_string not in to_append[1]:\n",
        "                to_append[1] = to_append[1] + '|' + query_string\n",
        "            if to_append[1] == '':\n",
        "                to_append[1] = query_string\n",
        "    literal_preds.append(*to_append[1:])"
      ],
      "id": "otherwise-influence",
      "execution_count": null,
      "outputs": [
        {
          "data": {
            "application/vnd.jupyter.widget-view+json": {
              "model_id": "9a282ef6732249679d726219b3b2c331",
              "version_major": 2,
              "version_minor": 0
            },
            "text/plain": [
              "HBox(children=(FloatProgress(value=1.0, bar_style='info', layout=Layout(width='20px'), max=1.0), HTML(value=''…"
            ]
          },
          "metadata": {},
          "output_type": "display_data"
        },
        {
          "name": "stdout",
          "output_type": "stream",
          "text": [
            "\n"
          ]
        }
      ]
    },
    {
      "cell_type": "code",
      "metadata": {
        "execution": {
          "iopub.execute_input": "2021-07-09T16:11:41.798775Z",
          "iopub.status.busy": "2021-07-09T16:11:41.797850Z",
          "iopub.status.idle": "2021-07-09T16:11:41.801476Z",
          "shell.execute_reply": "2021-07-09T16:11:41.802005Z",
          "shell.execute_reply.started": "2021-07-09T16:00:25.626601Z"
        },
        "papermill": {
          "duration": 0.056195,
          "end_time": "2021-07-09T16:11:41.802167",
          "exception": false,
          "start_time": "2021-07-09T16:11:41.745972",
          "status": "completed"
        },
        "tags": [],
        "id": "silent-angola",
        "outputId": "a2e00c2a-f2fc-40b4-ab16-42d2520170e9"
      },
      "source": [
        "literal_preds"
      ],
      "id": "silent-angola",
      "execution_count": null,
      "outputs": [
        {
          "data": {
            "text/plain": [
              "['adni|alzheimers disease neuroimaging initiative|pubmed',\n",
              " 'common core of data|nces common core of data|trends in international mathematics and science study|schools and staffing survey|integrated postsecondary education data system|ipeds|progress in international reading literacy study',\n",
              " 'slosh model|noaa storm surge inundation|sea lake and overland surges from hurricanes',\n",
              " '']"
            ]
          },
          "execution_count": 22,
          "metadata": {},
          "output_type": "execute_result"
        }
      ]
    },
    {
      "cell_type": "markdown",
      "metadata": {
        "papermill": {
          "duration": 0.047049,
          "end_time": "2021-07-09T16:11:41.896267",
          "exception": false,
          "start_time": "2021-07-09T16:11:41.849218",
          "status": "completed"
        },
        "tags": [],
        "id": "electrical-release"
      },
      "source": [
        "# <font color='#FF4500'>Masked Modling Language 🤗"
      ],
      "id": "electrical-release"
    },
    {
      "cell_type": "markdown",
      "metadata": {
        "papermill": {
          "duration": 0.047041,
          "end_time": "2021-07-09T16:11:41.989888",
          "exception": false,
          "start_time": "2021-07-09T16:11:41.942847",
          "status": "completed"
        },
        "tags": [],
        "id": "understanding-forest"
      },
      "source": [
        "## Load model and tokenizer"
      ],
      "id": "understanding-forest"
    },
    {
      "cell_type": "code",
      "metadata": {
        "execution": {
          "iopub.execute_input": "2021-07-09T16:11:42.090472Z",
          "iopub.status.busy": "2021-07-09T16:11:42.089455Z",
          "iopub.status.idle": "2021-07-09T16:11:42.093048Z",
          "shell.execute_reply": "2021-07-09T16:11:42.092541Z",
          "shell.execute_reply.started": "2021-07-09T16:00:25.633727Z"
        },
        "papermill": {
          "duration": 0.056215,
          "end_time": "2021-07-09T16:11:42.093191",
          "exception": false,
          "start_time": "2021-07-09T16:11:42.036976",
          "status": "completed"
        },
        "tags": [],
        "id": "usual-visiting"
      },
      "source": [
        "PRETRAINED_PATH = '../input/coleridge-mlm-model/output-mlm/checkpoint-48000'\n",
        "TOKENIZER_PATH = '../input/coleridge-mlm-model/model_tokenizer'\n",
        "\n",
        "MAX_LENGTH = 64\n",
        "OVERLAP = 20\n",
        "\n",
        "PREDICT_BATCH = 32\n",
        "\n",
        "DATASET_SYMBOL = '$' # this symbol represents a dataset name\n",
        "NONDATA_SYMBOL = '#' # this symbol represents a non-dataset name"
      ],
      "id": "usual-visiting",
      "execution_count": null,
      "outputs": []
    },
    {
      "cell_type": "code",
      "metadata": {
        "execution": {
          "iopub.execute_input": "2021-07-09T16:11:42.193679Z",
          "iopub.status.busy": "2021-07-09T16:11:42.192751Z",
          "iopub.status.idle": "2021-07-09T16:11:57.294572Z",
          "shell.execute_reply": "2021-07-09T16:11:57.294021Z",
          "shell.execute_reply.started": "2021-07-09T16:00:25.644362Z"
        },
        "papermill": {
          "duration": 15.154011,
          "end_time": "2021-07-09T16:11:57.294726",
          "exception": false,
          "start_time": "2021-07-09T16:11:42.140715",
          "status": "completed"
        },
        "tags": [],
        "id": "talented-algebra"
      },
      "source": [
        "tokenizer = AutoTokenizer.from_pretrained(TOKENIZER_PATH, use_fast=True)\n",
        "model = AutoModelForMaskedLM.from_pretrained(PRETRAINED_PATH)\n",
        "\n",
        "mlm = pipeline(\n",
        "    'fill-mask', \n",
        "    model=model,\n",
        "    tokenizer=tokenizer,\n",
        "    device=0 if torch.cuda.is_available() else -1\n",
        ")"
      ],
      "id": "talented-algebra",
      "execution_count": null,
      "outputs": []
    },
    {
      "cell_type": "code",
      "metadata": {
        "execution": {
          "iopub.execute_input": "2021-07-09T16:11:57.408087Z",
          "iopub.status.busy": "2021-07-09T16:11:57.405850Z",
          "iopub.status.idle": "2021-07-09T16:11:57.408852Z",
          "shell.execute_reply": "2021-07-09T16:11:57.409323Z",
          "shell.execute_reply.started": "2021-07-09T16:00:40.338016Z"
        },
        "papermill": {
          "duration": 0.066912,
          "end_time": "2021-07-09T16:11:57.409587",
          "exception": false,
          "start_time": "2021-07-09T16:11:57.342675",
          "status": "completed"
        },
        "tags": [],
        "id": "offensive-confirmation"
      },
      "source": [
        "def clean_text(txt):\n",
        "    return re.sub('[^A-Za-z0-9]+', ' ', str(txt).lower()).strip()\n",
        "\n",
        "def jaccard_similarity(s1, s2):\n",
        "    l1 = s1.split(\" \")\n",
        "    l2 = s2.split(\" \")    \n",
        "    intersection = len(list(set(l1).intersection(l2)))\n",
        "    union = (len(l1) + len(l2)) - intersection\n",
        "    return float(intersection) / union\n",
        "\n",
        "def clean_paper_sentence(s):\n",
        "    \"\"\"\n",
        "    This function is essentially clean_text without lowercasing.\n",
        "    \"\"\"\n",
        "    s = re.sub('[^A-Za-z0-9]+', ' ', str(s)).strip()\n",
        "    s = re.sub(' +', ' ', s)\n",
        "    return s\n",
        "\n",
        "def shorten_sentences(sentences):\n",
        "    \"\"\"\n",
        "    Sentences that have more than MAX_LENGTH words will be split\n",
        "    into multiple sentences with overlappings.\n",
        "    \"\"\"\n",
        "    short_sentences = []\n",
        "    for sentence in sentences:\n",
        "        words = sentence.split()\n",
        "        if len(words) > MAX_LENGTH:\n",
        "            for p in range(0, len(words), MAX_LENGTH - OVERLAP):\n",
        "                short_sentences.append(' '.join(words[p:p+MAX_LENGTH]))\n",
        "        else:\n",
        "            short_sentences.append(sentence)\n",
        "    return short_sentences\n",
        "\n",
        "connection_tokens = {'s', 'of', 'and', 'in', 'on', 'for', 'data', 'dataset'}\n",
        "def find_mask_candidates(sentence):\n",
        "    \"\"\"\n",
        "    Extract masking candidates for Masked Dataset Modeling from a given $sentence.\n",
        "    A candidate should be a continuous sequence of at least 2 words, \n",
        "    each of these words either has the first letter in uppercase or is one of\n",
        "    the connection words ($connection_tokens). Furthermore, the connection \n",
        "    tokens are not allowed to appear at the beginning and the end of the\n",
        "    sequence.\n",
        "    \"\"\"\n",
        "    def candidate_qualified(words):\n",
        "        while len(words) and words[0].lower() in connection_tokens:\n",
        "            words = words[1:]\n",
        "        while len(words) and words[-1].lower() in connection_tokens:\n",
        "            words = words[:-1]\n",
        "        \n",
        "        return len(words) >= 2\n",
        "    \n",
        "    candidates = []\n",
        "    \n",
        "    phrase_start, phrase_end = -1, -1\n",
        "    for id in range(1, len(sentence)):\n",
        "        word = sentence[id]\n",
        "        if word[0].isupper() or word in connection_tokens:\n",
        "            if phrase_start == -1:\n",
        "                phrase_start = phrase_end = id\n",
        "            else:\n",
        "                phrase_end = id\n",
        "        else:\n",
        "            if phrase_start != -1:\n",
        "                if candidate_qualified(sentence[phrase_start:phrase_end+1]):\n",
        "                    candidates.append((phrase_start, phrase_end))\n",
        "                phrase_start = phrase_end = -1\n",
        "    \n",
        "    if phrase_start != -1:\n",
        "        if candidate_qualified(sentence[phrase_start:phrase_end+1]):\n",
        "            candidates.append((phrase_start, phrase_end))\n",
        "    \n",
        "    return candidates"
      ],
      "id": "offensive-confirmation",
      "execution_count": null,
      "outputs": []
    },
    {
      "cell_type": "markdown",
      "metadata": {
        "papermill": {
          "duration": 0.046713,
          "end_time": "2021-07-09T16:11:57.504134",
          "exception": false,
          "start_time": "2021-07-09T16:11:57.457421",
          "status": "completed"
        },
        "tags": [],
        "id": "defined-purchase"
      },
      "source": [
        "## Transform :"
      ],
      "id": "defined-purchase"
    },
    {
      "cell_type": "code",
      "metadata": {
        "execution": {
          "iopub.execute_input": "2021-07-09T16:11:57.604234Z",
          "iopub.status.busy": "2021-07-09T16:11:57.603255Z",
          "iopub.status.idle": "2021-07-09T16:11:57.606278Z",
          "shell.execute_reply": "2021-07-09T16:11:57.605781Z",
          "shell.execute_reply.started": "2021-07-09T16:00:40.354607Z"
        },
        "papermill": {
          "duration": 0.054781,
          "end_time": "2021-07-09T16:11:57.606445",
          "exception": false,
          "start_time": "2021-07-09T16:11:57.551664",
          "status": "completed"
        },
        "tags": [],
        "id": "placed-railway"
      },
      "source": [
        "mask = mlm.tokenizer.mask_token"
      ],
      "id": "placed-railway",
      "execution_count": null,
      "outputs": []
    },
    {
      "cell_type": "code",
      "metadata": {
        "execution": {
          "iopub.execute_input": "2021-07-09T16:11:57.729891Z",
          "iopub.status.busy": "2021-07-09T16:11:57.724527Z",
          "iopub.status.idle": "2021-07-09T16:11:57.787736Z",
          "shell.execute_reply": "2021-07-09T16:11:57.787186Z",
          "shell.execute_reply.started": "2021-07-09T16:00:40.379801Z"
        },
        "papermill": {
          "duration": 0.134515,
          "end_time": "2021-07-09T16:11:57.787887",
          "exception": false,
          "start_time": "2021-07-09T16:11:57.653372",
          "status": "completed"
        },
        "tags": [],
        "id": "administrative-nancy"
      },
      "source": [
        "all_test_data = []\n",
        "\n",
        "\n",
        "for paper_id in sampleSubmission['Id']:\n",
        "    # load paper\n",
        "    paper = papers[paper_id]\n",
        "    \n",
        "    # extract sentences\n",
        "    sentences = set([clean_paper_sentence(sentence) for section in paper \n",
        "                     for sentence in section['text'].split('.')\n",
        "                    ])\n",
        "    sentences = shorten_sentences(sentences) # make sentences short\n",
        "    sentences = [sentence for sentence in sentences if len(sentence) > 10] # only accept sentences with length > 10 chars\n",
        "    sentences = [sentence for sentence in sentences if any(word in sentence.lower() for word in ['data', 'study'])]\n",
        "    sentences = [sentence.split() for sentence in sentences] # sentence = list of words\n",
        "    \n",
        "    # mask\n",
        "    test_data = []\n",
        "    for sentence in sentences:\n",
        "        for phrase_start, phrase_end in find_mask_candidates(sentence):\n",
        "            dt_point = sentence[:phrase_start] + [mask] + sentence[phrase_end+1:]\n",
        "            test_data.append((' '.join(dt_point), ' '.join(sentence[phrase_start:phrase_end+1]))) # (masked text, phrase)\n",
        "    \n",
        "    all_test_data.append(test_data)\n",
        "    "
      ],
      "id": "administrative-nancy",
      "execution_count": null,
      "outputs": []
    },
    {
      "cell_type": "markdown",
      "metadata": {
        "papermill": {
          "duration": 0.047415,
          "end_time": "2021-07-09T16:11:57.881939",
          "exception": false,
          "start_time": "2021-07-09T16:11:57.834524",
          "status": "completed"
        },
        "tags": [],
        "id": "defined-scanner"
      },
      "source": [
        "## Predict :"
      ],
      "id": "defined-scanner"
    },
    {
      "cell_type": "code",
      "metadata": {
        "execution": {
          "iopub.execute_input": "2021-07-09T16:11:58.009625Z",
          "iopub.status.busy": "2021-07-09T16:11:58.008343Z",
          "iopub.status.idle": "2021-07-09T16:12:01.079042Z",
          "shell.execute_reply": "2021-07-09T16:12:01.078533Z",
          "shell.execute_reply.started": "2021-07-09T16:00:40.455338Z"
        },
        "papermill": {
          "duration": 3.149934,
          "end_time": "2021-07-09T16:12:01.079184",
          "exception": false,
          "start_time": "2021-07-09T16:11:57.929250",
          "status": "completed"
        },
        "tags": [],
        "colab": {
          "referenced_widgets": [
            "c4add247c5374309b7471a8ac7cef9d2"
          ]
        },
        "id": "governing-involvement",
        "outputId": "2636b81c-b5cf-4355-e325-9eff41705782"
      },
      "source": [
        "pred_labels = []\n",
        "\n",
        "pbar = tqdm(total = len(all_test_data))\n",
        "for test_data in all_test_data:\n",
        "    pred_bag = set()\n",
        "    \n",
        "    if len(test_data):\n",
        "        texts, phrases = list(zip(*test_data))\n",
        "        mlm_pred = []\n",
        "        for p_id in range(0, len(texts), PREDICT_BATCH):\n",
        "            batch_texts = texts[p_id:p_id+PREDICT_BATCH]\n",
        "            batch_pred = mlm(list(batch_texts), targets=[f' {DATASET_SYMBOL}', f' {NONDATA_SYMBOL}'])\n",
        "            \n",
        "            if len(batch_texts) == 1:\n",
        "                batch_pred = [batch_pred]\n",
        "            \n",
        "            mlm_pred.extend(batch_pred)\n",
        "        \n",
        "        for (result1, result2), phrase in zip(mlm_pred, phrases):\n",
        "            if (result1['score'] > result2['score']*1.5 and result1['token_str'] == DATASET_SYMBOL) or\\\n",
        "               (result2['score'] > result1['score']*1.5 and result2['token_str'] == NONDATA_SYMBOL):\n",
        "                pred_bag.add(clean_text(phrase))\n",
        "    \n",
        "    # filter labels by jaccard score \n",
        "    filtered_labels = []\n",
        "    \n",
        "    for label in sorted(pred_bag, key=len, reverse=True):\n",
        "        if len(filtered_labels) == 0 or all(jaccard_similarity(label, got_label) < 0.75 for got_label in filtered_labels):\n",
        "            filtered_labels.append(label)\n",
        "            \n",
        "    pred_labels.append('|'.join(filtered_labels))\n",
        "    pbar.update(1)"
      ],
      "id": "governing-involvement",
      "execution_count": null,
      "outputs": [
        {
          "data": {
            "application/vnd.jupyter.widget-view+json": {
              "model_id": "c4add247c5374309b7471a8ac7cef9d2",
              "version_major": 2,
              "version_minor": 0
            },
            "text/plain": [
              "HBox(children=(FloatProgress(value=0.0, max=4.0), HTML(value='')))"
            ]
          },
          "metadata": {},
          "output_type": "display_data"
        }
      ]
    },
    {
      "cell_type": "code",
      "metadata": {
        "execution": {
          "iopub.execute_input": "2021-07-09T16:12:01.179712Z",
          "iopub.status.busy": "2021-07-09T16:12:01.178812Z",
          "iopub.status.idle": "2021-07-09T16:12:01.183069Z",
          "shell.execute_reply": "2021-07-09T16:12:01.182476Z",
          "shell.execute_reply.started": "2021-07-09T16:00:43.293297Z"
        },
        "papermill": {
          "duration": 0.05635,
          "end_time": "2021-07-09T16:12:01.183201",
          "exception": false,
          "start_time": "2021-07-09T16:12:01.126851",
          "status": "completed"
        },
        "tags": [],
        "id": "weighted-craft",
        "outputId": "1a7e2d23-7d01-4337-fda0-09ac297d5d6e"
      },
      "source": [
        "pred_labels"
      ],
      "id": "weighted-craft",
      "execution_count": null,
      "outputs": [
        {
          "data": {
            "text/plain": [
              "['lothian birth cohort study lbc1936',\n",
              " 'trends in international mathematics and science study timss|progress in international|pirls pisa',\n",
              " 'nc sea level rise risk management study slrrms|dataset data management in arcgis',\n",
              " 'iri cnp data']"
            ]
          },
          "execution_count": 29,
          "metadata": {},
          "output_type": "execute_result"
        }
      ]
    },
    {
      "cell_type": "code",
      "metadata": {
        "execution": {
          "iopub.execute_input": "2021-07-09T16:12:01.287646Z",
          "iopub.status.busy": "2021-07-09T16:12:01.286680Z",
          "iopub.status.idle": "2021-07-09T16:12:01.293902Z",
          "shell.execute_reply": "2021-07-09T16:12:01.293322Z",
          "shell.execute_reply.started": "2021-07-09T16:00:43.303403Z"
        },
        "papermill": {
          "duration": 0.064108,
          "end_time": "2021-07-09T16:12:01.294054",
          "exception": false,
          "start_time": "2021-07-09T16:12:01.229946",
          "status": "completed"
        },
        "tags": [],
        "id": "streaming-field"
      },
      "source": [
        "final_predictions=[]\n",
        "for literal_match, mlm_pred in zip(literal_preds, pred_labels):\n",
        "        if literal_match!='' and mlm_pred not in literal_match:\n",
        "            final_predictions.append(literal_match +'|'+mlm_pred)\n",
        "        else:\n",
        "            if literal_match:\n",
        "                final_predictions.append(literal_match)\n",
        "            else :\n",
        "                final_predictions.append(mlm_pred)\n",
        "            \n",
        "\n",
        "            \n",
        "final_predictions\n",
        "            \n",
        "sampleSubmission['PredictionString'] = final_predictions\n",
        "sample_submission=sampleSubmission[['Id','PredictionString']]\n",
        "sample_submission.to_csv('submission.csv', index=False)"
      ],
      "id": "streaming-field",
      "execution_count": null,
      "outputs": []
    },
    {
      "cell_type": "code",
      "metadata": {
        "execution": {
          "iopub.execute_input": "2021-07-09T16:12:01.398015Z",
          "iopub.status.busy": "2021-07-09T16:12:01.397148Z",
          "iopub.status.idle": "2021-07-09T16:12:01.400659Z",
          "shell.execute_reply": "2021-07-09T16:12:01.401141Z",
          "shell.execute_reply.started": "2021-07-09T16:00:43.317186Z"
        },
        "papermill": {
          "duration": 0.059331,
          "end_time": "2021-07-09T16:12:01.401298",
          "exception": false,
          "start_time": "2021-07-09T16:12:01.341967",
          "status": "completed"
        },
        "tags": [],
        "id": "engaging-factor",
        "outputId": "7dcefa0a-fe5b-4000-bc48-99741e19223e"
      },
      "source": [
        "sample_submission['PredictionString'].head().to_list()"
      ],
      "id": "engaging-factor",
      "execution_count": null,
      "outputs": [
        {
          "data": {
            "text/plain": [
              "['adni|alzheimers disease neuroimaging initiative|pubmed|lothian birth cohort study lbc1936',\n",
              " 'common core of data|nces common core of data|trends in international mathematics and science study|schools and staffing survey|integrated postsecondary education data system|ipeds|progress in international reading literacy study|trends in international mathematics and science study timss|progress in international|pirls pisa',\n",
              " 'slosh model|noaa storm surge inundation|sea lake and overland surges from hurricanes|nc sea level rise risk management study slrrms|dataset data management in arcgis',\n",
              " 'iri cnp data']"
            ]
          },
          "execution_count": 31,
          "metadata": {},
          "output_type": "execute_result"
        }
      ]
    },
    {
      "cell_type": "code",
      "metadata": {
        "papermill": {
          "duration": 0.047858,
          "end_time": "2021-07-09T16:12:01.497632",
          "exception": false,
          "start_time": "2021-07-09T16:12:01.449774",
          "status": "completed"
        },
        "tags": [],
        "id": "current-prerequisite"
      },
      "source": [
        ""
      ],
      "id": "current-prerequisite",
      "execution_count": null,
      "outputs": []
    },
    {
      "cell_type": "code",
      "metadata": {
        "papermill": {
          "duration": 0.048813,
          "end_time": "2021-07-09T16:12:01.594932",
          "exception": false,
          "start_time": "2021-07-09T16:12:01.546119",
          "status": "completed"
        },
        "tags": [],
        "id": "thrown-baptist"
      },
      "source": [
        ""
      ],
      "id": "thrown-baptist",
      "execution_count": null,
      "outputs": []
    }
  ]
}
